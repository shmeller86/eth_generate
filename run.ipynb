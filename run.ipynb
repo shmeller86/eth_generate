{
 "cells": [
  {
   "cell_type": "code",
   "execution_count": 7,
   "metadata": {},
   "outputs": [
    {
     "ename": "ModuleNotFoundError",
     "evalue": "No module named 'coincurve'",
     "output_type": "error",
     "traceback": [
      "\u001b[0;31m---------------------------------------------------------------------------\u001b[0m",
      "\u001b[0;31mModuleNotFoundError\u001b[0m                       Traceback (most recent call last)",
      "\u001b[1;32m/Users/shmeller86/Documents/PROJECTS/python/eth_generate/run.ipynb Cell 1'\u001b[0m in \u001b[0;36m<cell line: 3>\u001b[0;34m()\u001b[0m\n\u001b[1;32m      <a href='vscode-notebook-cell:/Users/shmeller86/Documents/PROJECTS/python/eth_generate/run.ipynb#ch0000000?line=0'>1</a>\u001b[0m \u001b[39mimport\u001b[39;00m \u001b[39msecrets\u001b[39;00m\n\u001b[1;32m      <a href='vscode-notebook-cell:/Users/shmeller86/Documents/PROJECTS/python/eth_generate/run.ipynb#ch0000000?line=1'>2</a>\u001b[0m \u001b[39mfrom\u001b[39;00m \u001b[39msha3\u001b[39;00m \u001b[39mimport\u001b[39;00m keccak_256, sha3_256\n\u001b[0;32m----> <a href='vscode-notebook-cell:/Users/shmeller86/Documents/PROJECTS/python/eth_generate/run.ipynb#ch0000000?line=2'>3</a>\u001b[0m \u001b[39mfrom\u001b[39;00m \u001b[39mcoincurve\u001b[39;00m \u001b[39mimport\u001b[39;00m PublicKey\n\u001b[1;32m      <a href='vscode-notebook-cell:/Users/shmeller86/Documents/PROJECTS/python/eth_generate/run.ipynb#ch0000000?line=4'>5</a>\u001b[0m private_key1 \u001b[39m=\u001b[39m keccak_256(secrets\u001b[39m.\u001b[39mtoken_bytes(\u001b[39m32\u001b[39m))\u001b[39m.\u001b[39mdigest()\n\u001b[1;32m      <a href='vscode-notebook-cell:/Users/shmeller86/Documents/PROJECTS/python/eth_generate/run.ipynb#ch0000000?line=5'>6</a>\u001b[0m private_key2 \u001b[39m=\u001b[39m sha3_256(secrets\u001b[39m.\u001b[39mtoken_bytes(\u001b[39m32\u001b[39m))\u001b[39m.\u001b[39mdigest()\n",
      "\u001b[0;31mModuleNotFoundError\u001b[0m: No module named 'coincurve'"
     ]
    }
   ],
   "source": [
    "import secrets\n",
    "from sha3 import keccak_256, sha3_256\n",
    "from coincurve import PublicKey\n",
    "\n",
    "private_key1 = keccak_256(secrets.token_bytes(32)).digest()\n",
    "private_key2 = sha3_256(secrets.token_bytes(32)).digest()\n",
    "\n",
    "\n",
    "\n",
    "public_key = PublicKey.from_valid_secret(private_key).format(compressed=False)[1:]"
   ]
  },
  {
   "cell_type": "code",
   "execution_count": 5,
   "metadata": {},
   "outputs": [
    {
     "data": {
      "text/plain": [
       "\"b'\\\\xce\\\\x9a$\\\\x0fn\\\\r\\\\xac\\\\x95\\\\xbe\\\\xd0\\\\xe4\\\\x9f\\\\n\\\\x01K=\\\\x9e\\\\xf4\\\\xfcn\\\\xff\\\\xa1pH\\\\x1c\\\\x8e\\\\xe7\\\\xb1\\\\x85\\\\xdaP\\\\xa9'\""
      ]
     },
     "execution_count": 5,
     "metadata": {},
     "output_type": "execute_result"
    }
   ],
   "source": [
    "str(private_key2)"
   ]
  }
 ],
 "metadata": {
  "interpreter": {
   "hash": "f442a66f431ac274a748373cf9c65adc85361cd95c054e56b94d23c2c8c5b747"
  },
  "kernelspec": {
   "display_name": "Python 3.9.7 ('venv': venv)",
   "language": "python",
   "name": "python3"
  },
  "language_info": {
   "codemirror_mode": {
    "name": "ipython",
    "version": 3
   },
   "file_extension": ".py",
   "mimetype": "text/x-python",
   "name": "python",
   "nbconvert_exporter": "python",
   "pygments_lexer": "ipython3",
   "version": "3.9.7"
  },
  "orig_nbformat": 4
 },
 "nbformat": 4,
 "nbformat_minor": 2
}
