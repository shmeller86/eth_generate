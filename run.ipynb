{
 "cells": [
  {
   "cell_type": "code",
   "execution_count": 3,
   "metadata": {},
   "outputs": [
    {
     "name": "stdout",
     "output_type": "stream",
     "text": [
      "Requirement already satisfied: coincurve in ./venv/lib/python3.9/site-packages (17.0.0)\n",
      "Collecting pysha\n",
      "  Downloading pysha-0.0.2-py3-none-any.whl (29 kB)\n",
      "Requirement already satisfied: secrets in ./venv/lib/python3.9/site-packages (1.0.2)\n",
      "Requirement already satisfied: asn1crypto in ./venv/lib/python3.9/site-packages (from coincurve) (1.5.1)\n",
      "Requirement already satisfied: cffi>=1.3.0 in ./venv/lib/python3.9/site-packages (from coincurve) (1.15.0)\n",
      "Requirement already satisfied: configobj in ./venv/lib/python3.9/site-packages (from secrets) (5.0.6)\n",
      "Requirement already satisfied: python-ldap in ./venv/lib/python3.9/site-packages (from secrets) (3.4.0)\n",
      "Requirement already satisfied: systematic>=3.0.0 in ./venv/lib/python3.9/site-packages (from secrets) (4.8.7)\n",
      "Requirement already satisfied: python-gnupg in ./venv/lib/python3.9/site-packages (from secrets) (0.4.8)\n",
      "Requirement already satisfied: pycparser in ./venv/lib/python3.9/site-packages (from cffi>=1.3.0->coincurve) (2.21)\n",
      "Requirement already satisfied: future in ./venv/lib/python3.9/site-packages (from systematic>=3.0.0->secrets) (0.18.2)\n",
      "Requirement already satisfied: six in ./venv/lib/python3.9/site-packages (from configobj->secrets) (1.16.0)\n",
      "Requirement already satisfied: pyasn1>=0.3.7 in ./venv/lib/python3.9/site-packages (from python-ldap->secrets) (0.4.8)\n",
      "Requirement already satisfied: pyasn1-modules>=0.1.5 in ./venv/lib/python3.9/site-packages (from python-ldap->secrets) (0.2.8)\n",
      "Installing collected packages: pysha\n",
      "Successfully installed pysha-0.0.2\n",
      "\u001b[33mWARNING: There was an error checking the latest version of pip.\u001b[0m\u001b[33m\n",
      "\u001b[0mNote: you may need to restart the kernel to use updated packages.\n"
     ]
    }
   ],
   "source": [
    "pip install coincurve pysha secrets"
   ]
  },
  {
   "cell_type": "code",
   "execution_count": 4,
   "metadata": {},
   "outputs": [],
   "source": [
    "import secrets\n",
    "from sha3 import keccak_256, sha3_256\n",
    "from coincurve import PublicKey"
   ]
  },
  {
   "cell_type": "code",
   "execution_count": 5,
   "metadata": {},
   "outputs": [],
   "source": [
    "private_key = keccak_256(secrets.token_bytes(32)).digest()\n",
    "public_key = PublicKey.from_valid_secret(private_key).format(compressed=False)[1:]\n",
    "address = keccak_256(public_key).digest()[-20:]"
   ]
  },
  {
   "cell_type": "code",
   "execution_count": 6,
   "metadata": {},
   "outputs": [
    {
     "name": "stdout",
     "output_type": "stream",
     "text": [
      "private_key: df9f47d8f7238fbf623d425ab7a8093760f3229fefaeec2e8f173400edf18b10\n",
      "eth addr: 0x55900721facaba2383ed6f2fbca0567b1702e121\n"
     ]
    }
   ],
   "source": [
    "print('private_key:', private_key.hex())\n",
    "print('eth addr: 0x' + address.hex())"
   ]
  }
 ],
 "metadata": {
  "interpreter": {
   "hash": "f442a66f431ac274a748373cf9c65adc85361cd95c054e56b94d23c2c8c5b747"
  },
  "kernelspec": {
   "display_name": "Python 3.9.7 ('venv': venv)",
   "language": "python",
   "name": "python3"
  },
  "language_info": {
   "codemirror_mode": {
    "name": "ipython",
    "version": 3
   },
   "file_extension": ".py",
   "mimetype": "text/x-python",
   "name": "python",
   "nbconvert_exporter": "python",
   "pygments_lexer": "ipython3",
   "version": "3.9.7"
  },
  "orig_nbformat": 4
 },
 "nbformat": 4,
 "nbformat_minor": 2
}
